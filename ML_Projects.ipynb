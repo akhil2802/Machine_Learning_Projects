{
    "cells": [
        {
            "metadata": {
                "collapsed": true
            },
            "cell_type": "markdown",
            "source": "<h1><em>-:KNN algorithm:-</em></h1>\n<h3>   The elongation of KNN is K-Nearest Neighbors, which is one of the Classification algorithm used for Supervised Learning.</h3>"
        },
        {
            "metadata": {},
            "cell_type": "code",
            "source": "import numpy as np\nimport matplotlib.pyplot as plt\nimport matplotlib.ticker as ticker\nfrom matplotlib.ticker import NullFormatter\nimport pandas as pd\nfrom sklearn import preprocessing\n%matplotlib inline\n",
            "execution_count": 1,
            "outputs": []
        },
        {
            "metadata": {},
            "cell_type": "code",
            "source": "!wget -O teleCust1000t.csv https://s3-api.us-geo.objectstorage.softlayer.net/cf-courses-data/CognitiveClass/ML0101ENv3/labs/teleCust1000t.csv\n",
            "execution_count": 3,
            "outputs": [
                {
                    "output_type": "stream",
                    "text": "--2020-08-16 09:14:02--  https://s3-api.us-geo.objectstorage.softlayer.net/cf-courses-data/CognitiveClass/ML0101ENv3/labs/teleCust1000t.csv\nResolving s3-api.us-geo.objectstorage.softlayer.net (s3-api.us-geo.objectstorage.softlayer.net)... 67.228.254.196\nConnecting to s3-api.us-geo.objectstorage.softlayer.net (s3-api.us-geo.objectstorage.softlayer.net)|67.228.254.196|:443... connected.\nHTTP request sent, awaiting response... 200 OK\nLength: 37048 (36K) [text/csv]\nSaving to: \u2018teleCust1000t.csv\u2019\n\n100%[======================================>] 37,048      --.-K/s   in 0.07s   \n\n2020-08-16 09:14:03 (484 KB/s) - \u2018teleCust1000t.csv\u2019 saved [37048/37048]\n\n",
                    "name": "stdout"
                }
            ]
        },
        {
            "metadata": {},
            "cell_type": "code",
            "source": "df = pd.read_csv('teleCust1000t.csv')\ndf.head()",
            "execution_count": 5,
            "outputs": [
                {
                    "output_type": "execute_result",
                    "execution_count": 5,
                    "data": {
                        "text/plain": "   region  tenure  age  marital  address  income  ed  employ  retire  gender  \\\n0       2      13   44        1        9    64.0   4       5     0.0       0   \n1       3      11   33        1        7   136.0   5       5     0.0       0   \n2       3      68   52        1       24   116.0   1      29     0.0       1   \n3       2      33   33        0       12    33.0   2       0     0.0       1   \n4       2      23   30        1        9    30.0   1       2     0.0       0   \n\n   reside  custcat  \n0       2        1  \n1       6        4  \n2       2        3  \n3       1        1  \n4       4        3  ",
                        "text/html": "<div>\n<style scoped>\n    .dataframe tbody tr th:only-of-type {\n        vertical-align: middle;\n    }\n\n    .dataframe tbody tr th {\n        vertical-align: top;\n    }\n\n    .dataframe thead th {\n        text-align: right;\n    }\n</style>\n<table border=\"1\" class=\"dataframe\">\n  <thead>\n    <tr style=\"text-align: right;\">\n      <th></th>\n      <th>region</th>\n      <th>tenure</th>\n      <th>age</th>\n      <th>marital</th>\n      <th>address</th>\n      <th>income</th>\n      <th>ed</th>\n      <th>employ</th>\n      <th>retire</th>\n      <th>gender</th>\n      <th>reside</th>\n      <th>custcat</th>\n    </tr>\n  </thead>\n  <tbody>\n    <tr>\n      <th>0</th>\n      <td>2</td>\n      <td>13</td>\n      <td>44</td>\n      <td>1</td>\n      <td>9</td>\n      <td>64.0</td>\n      <td>4</td>\n      <td>5</td>\n      <td>0.0</td>\n      <td>0</td>\n      <td>2</td>\n      <td>1</td>\n    </tr>\n    <tr>\n      <th>1</th>\n      <td>3</td>\n      <td>11</td>\n      <td>33</td>\n      <td>1</td>\n      <td>7</td>\n      <td>136.0</td>\n      <td>5</td>\n      <td>5</td>\n      <td>0.0</td>\n      <td>0</td>\n      <td>6</td>\n      <td>4</td>\n    </tr>\n    <tr>\n      <th>2</th>\n      <td>3</td>\n      <td>68</td>\n      <td>52</td>\n      <td>1</td>\n      <td>24</td>\n      <td>116.0</td>\n      <td>1</td>\n      <td>29</td>\n      <td>0.0</td>\n      <td>1</td>\n      <td>2</td>\n      <td>3</td>\n    </tr>\n    <tr>\n      <th>3</th>\n      <td>2</td>\n      <td>33</td>\n      <td>33</td>\n      <td>0</td>\n      <td>12</td>\n      <td>33.0</td>\n      <td>2</td>\n      <td>0</td>\n      <td>0.0</td>\n      <td>1</td>\n      <td>1</td>\n      <td>1</td>\n    </tr>\n    <tr>\n      <th>4</th>\n      <td>2</td>\n      <td>23</td>\n      <td>30</td>\n      <td>1</td>\n      <td>9</td>\n      <td>30.0</td>\n      <td>1</td>\n      <td>2</td>\n      <td>0.0</td>\n      <td>0</td>\n      <td>4</td>\n      <td>3</td>\n    </tr>\n  </tbody>\n</table>\n</div>"
                    },
                    "metadata": {}
                }
            ]
        },
        {
            "metadata": {},
            "cell_type": "code",
            "source": "df['custcat'].value_counts()",
            "execution_count": 6,
            "outputs": [
                {
                    "output_type": "execute_result",
                    "execution_count": 6,
                    "data": {
                        "text/plain": "3    281\n1    266\n4    236\n2    217\nName: custcat, dtype: int64"
                    },
                    "metadata": {}
                }
            ]
        },
        {
            "metadata": {},
            "cell_type": "code",
            "source": "df.hist(column=['income', 'age'], bins=50)",
            "execution_count": 11,
            "outputs": [
                {
                    "output_type": "execute_result",
                    "execution_count": 11,
                    "data": {
                        "text/plain": "array([[<matplotlib.axes._subplots.AxesSubplot object at 0x7f36f3bd0198>,\n        <matplotlib.axes._subplots.AxesSubplot object at 0x7f36f3984668>]],\n      dtype=object)"
                    },
                    "metadata": {}
                },
                {
                    "output_type": "display_data",
                    "data": {
                        "text/plain": "<Figure size 432x288 with 2 Axes>",
                        "image/png": "[encoded data removed]"
                    },
                    "metadata": {
                        "needs_background": "light"
                    }
                }
            ]
        },
        {
            "metadata": {},
            "cell_type": "code",
            "source": "# To get column names list:\ndf.columns",
            "execution_count": 12,
            "outputs": [
                {
                    "output_type": "execute_result",
                    "execution_count": 12,
                    "data": {
                        "text/plain": "Index(['region', 'tenure', 'age', 'marital', 'address', 'income', 'ed',\n       'employ', 'retire', 'gender', 'reside', 'custcat'],\n      dtype='object')"
                    },
                    "metadata": {}
                }
            ]
        },
        {
            "metadata": {},
            "cell_type": "markdown",
            "source": "<hr>\n<i>\n<b>NOTE:</b><br> \nAs the above list is in the pandas format, cannot be used directly wth scikit-learn library. \nWe have to convert pandas data frame to numpy arrays:\n</i> \n<hr>"
        },
        {
            "metadata": {},
            "cell_type": "code",
            "source": "# Defining our Feature sets(X):\nX = df[['region', 'tenure', 'age', 'marital', 'address', 'income', 'ed', 'employ', 'retire', 'gender', 'reside']].values\nX[0:2]",
            "execution_count": 14,
            "outputs": [
                {
                    "output_type": "execute_result",
                    "execution_count": 14,
                    "data": {
                        "text/plain": "array([[  2.,  13.,  44.,   1.,   9.,  64.,   4.,   5.,   0.,   0.,   2.],\n       [  3.,  11.,  33.,   1.,   7., 136.,   5.,   5.,   0.,   0.,   6.]])"
                    },
                    "metadata": {}
                }
            ]
        },
        {
            "metadata": {},
            "cell_type": "code",
            "source": "# Defining our labels(y):\ny = df['custcat'].values\ny[0:2]",
            "execution_count": 15,
            "outputs": [
                {
                    "output_type": "execute_result",
                    "execution_count": 15,
                    "data": {
                        "text/plain": "array([1, 4])"
                    },
                    "metadata": {}
                }
            ]
        },
        {
            "metadata": {},
            "cell_type": "code",
            "source": "X = preprocessing.StandardScaler().fit(X).transform(X.astype(float))\nX[0:2]",
            "execution_count": 17,
            "outputs": [
                {
                    "output_type": "execute_result",
                    "execution_count": 17,
                    "data": {
                        "text/plain": "array([[-0.02696767, -1.055125  ,  0.18450456,  1.0100505 , -0.25303431,\n        -0.12650641,  1.0877526 , -0.5941226 , -0.22207644, -1.03459817,\n        -0.23065004],\n       [ 1.19883553, -1.14880563, -0.69181243,  1.0100505 , -0.4514148 ,\n         0.54644972,  1.9062271 , -0.5941226 , -0.22207644, -1.03459817,\n         2.55666158]])"
                    },
                    "metadata": {}
                }
            ]
        },
        {
            "metadata": {},
            "cell_type": "code",
            "source": "from sklearn.model_selection import train_test_split\nX_train, X_test, y_train, y_test = train_test_split(X, y, test_size=0.2, random_state=4)\nprint('Train set:', X_train.shape, y_train.shape)\nprint('Test set:', X_test.shape, y_test.shape)",
            "execution_count": 18,
            "outputs": [
                {
                    "output_type": "stream",
                    "text": "Train set: (800, 11) (800,)\nTest set: (200, 11) (200,)\n",
                    "name": "stdout"
                }
            ]
        },
        {
            "metadata": {},
            "cell_type": "code",
            "source": "from sklearn.neighbors import KNeighborsClassifier\n\nk = 4\n# Train model:\nneigh = KNeighborsClassifier(n_neighbors = k).fit(X_train, y_train)\nneigh",
            "execution_count": 20,
            "outputs": [
                {
                    "output_type": "execute_result",
                    "execution_count": 20,
                    "data": {
                        "text/plain": "KNeighborsClassifier(algorithm='auto', leaf_size=30, metric='minkowski',\n           metric_params=None, n_jobs=None, n_neighbors=4, p=2,\n           weights='uniform')"
                    },
                    "metadata": {}
                }
            ]
        },
        {
            "metadata": {},
            "cell_type": "code",
            "source": "# Making Prediction for an unseen data:\nyhat = neigh.predict(X_test)\nyhat[0:3]",
            "execution_count": 21,
            "outputs": [
                {
                    "output_type": "execute_result",
                    "execution_count": 21,
                    "data": {
                        "text/plain": "array([1, 1, 3])"
                    },
                    "metadata": {}
                }
            ]
        },
        {
            "metadata": {},
            "cell_type": "code",
            "source": "from sklearn import metrics\nprint('Train set Acccuracy: ', metrics.accuracy_score(y_train, neigh.predict(X_train)))\nprint('Test set Accuracy: ', metrics.accuracy_score(y_test, yhat))",
            "execution_count": 22,
            "outputs": [
                {
                    "output_type": "stream",
                    "text": "Train set Acccuracy:  0.5475\nTest set Accuracy:  0.32\n",
                    "name": "stdout"
                }
            ]
        },
        {
            "metadata": {},
            "cell_type": "code",
            "source": "# Let's have a different value for our k parameter and compare the accuracy with that of the above case where we had taken k=4:\nk = 6\nfrom sklearn.neighbors import KNeighborsClassifier\nneigh = KNeighborsClassifier(n_neighbors = k).fit(X_train, y_train)\nyhat = neigh.predict(X_test)\nprint('Train set Accuracy: ', metrics.accuracy_score(y_train, neigh.predict(X_train)))\nprint('Test set Accuracy: ', metrics.accuracy_score(y_test, yhat))",
            "execution_count": 23,
            "outputs": [
                {
                    "output_type": "stream",
                    "text": "Train set Accuracy:  0.51625\nTest set Accuracy:  0.31\n",
                    "name": "stdout"
                }
            ]
        },
        {
            "metadata": {},
            "cell_type": "markdown",
            "source": "***\n<i><!-- --> Comparing the above results:</i>\n<p><b>case 1 :</b> when k = 4, the Test accuracy is 0.32.</p>\n<p><b>case 2 :</b> when k = 6, the Test accuracy is 0.31.</p>\n<br>\n- As our accuracy varies for each value of k, it is very challenging to try and test for different values of k and chosing right value for our model with high accuracy:\n<br><br>- Let's calculate the accuracy of KNN for different k's.\n"
        },
        {
            "metadata": {},
            "cell_type": "code",
            "source": "ks = 10   # range of k:\nmean_accuracy = np.zeros((ks-1))\nstd_accuracy = np.zeros((ks-1))\nConfusion_matrix = []\nfor n in range(1, ks):\n    neigh = KNeighborsClassifier(n_neighbors = n).fit(X_train, y_train)\n    yhat = neigh.predict(X_test)\n    mean_accuracy[n-1] = metrics.accuracy_score(y_test, yhat)\n    std_accuracy[n-1] = np.std(yhat==y_test)/np.sqrt(yhat.shape[0])\n\nmean_accuracy",
            "execution_count": 24,
            "outputs": [
                {
                    "output_type": "execute_result",
                    "execution_count": 24,
                    "data": {
                        "text/plain": "array([0.3  , 0.29 , 0.315, 0.32 , 0.315, 0.31 , 0.335, 0.325, 0.34 ])"
                    },
                    "metadata": {}
                }
            ]
        },
        {
            "metadata": {},
            "cell_type": "code",
            "source": "# Plotting model accuracy for different values of k:\nplt.plot(range(1, ks), mean_accuracy, 'g')\nplt.fill_between(range(1,ks), mean_accuracy - 1 * std_accuracy, mean_accuracy + 1 * std_accuracy, alpha=0.10)\nplt.legend(('Accuracy', '+/- 3xstd'))\nplt.ylabel('Accuracy')\nplt.xlabel('Number of Neighbors (k)')\nplt.tight_layout()\nplt.show()",
            "execution_count": 25,
            "outputs": [
                {
                    "output_type": "display_data",
                    "data": {
                        "text/plain": "<Figure size 432x288 with 1 Axes>",
                        "image/png": "[encoded data removed]"
                    },
                    "metadata": {
                        "needs_background": "light"
                    }
                }
            ]
        },
        {
            "metadata": {},
            "cell_type": "code",
            "source": "print('The Best accuracy that we can obtain is', mean_accuracy.max(), 'with k =', mean_accuracy.argmax()+1)",
            "execution_count": 34,
            "outputs": [
                {
                    "output_type": "stream",
                    "text": "The Best accuracy that we can obtain is 0.34 with k = 9\n",
                    "name": "stdout"
                }
            ]
        },
        {
            "metadata": {},
            "cell_type": "markdown",
            "source": "***\n<h2>That's All folks!<br>\nSee you with another real world example.</h2>"
        },
        {
            "metadata": {},
            "cell_type": "code",
            "source": "",
            "execution_count": null,
            "outputs": []
        }
    ],
    "metadata": {
        "kernelspec": {
            "name": "python3",
            "display_name": "Python 3.6",
            "language": "python"
        },
        "language_info": {
            "name": "python",
            "version": "3.6.9",
            "mimetype": "text/x-python",
            "codemirror_mode": {
                "name": "ipython",
                "version": 3
            },
            "pygments_lexer": "ipython3",
            "nbconvert_exporter": "python",
            "file_extension": ".py"
        }
    },
    "nbformat": 4,
    "nbformat_minor": 1
}